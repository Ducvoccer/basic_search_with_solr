{
 "cells": [
  {
   "cell_type": "code",
   "execution_count": 2,
   "metadata": {},
   "outputs": [],
   "source": [
    "import pysolr\n",
    "import csv  \n",
    "import json  \n",
    "import pandas as pd\n",
    "\n",
    "import spacy\n",
    "\n",
    "nlp = spacy.load('vi_spacy_model')"
   ]
  },
  {
   "cell_type": "code",
   "execution_count": 3,
   "metadata": {},
   "outputs": [],
   "source": [
    "solr = pysolr.Solr('http://localhost:8983/solr/testDB', always_commit=True)"
   ]
  },
  {
   "cell_type": "code",
   "execution_count": 5,
   "metadata": {},
   "outputs": [
    {
     "ename": "SolrError",
     "evalue": "Solr responded with an error (HTTP 404): [Reason: Error 404 Not Found]",
     "output_type": "error",
     "traceback": [
      "\u001b[0;31m---------------------------------------------------------------------------\u001b[0m",
      "\u001b[0;31mSolrError\u001b[0m                                 Traceback (most recent call last)",
      "\u001b[0;32m<ipython-input-5-b81c14db4df2>\u001b[0m in \u001b[0;36m<module>\u001b[0;34m\u001b[0m\n\u001b[1;32m      1\u001b[0m \u001b[0mjson_data\u001b[0m \u001b[0;34m=\u001b[0m \u001b[0mread_csv_to_json\u001b[0m\u001b[0;34m(\u001b[0m\u001b[0mfilename\u001b[0m\u001b[0;34m=\u001b[0m\u001b[0;34m'dantri_test.csv'\u001b[0m\u001b[0;34m)\u001b[0m\u001b[0;34m\u001b[0m\u001b[0;34m\u001b[0m\u001b[0m\n\u001b[0;32m----> 2\u001b[0;31m \u001b[0msolr\u001b[0m\u001b[0;34m.\u001b[0m\u001b[0madd\u001b[0m\u001b[0;34m(\u001b[0m\u001b[0mjson_data\u001b[0m\u001b[0;34m)\u001b[0m\u001b[0;34m\u001b[0m\u001b[0;34m\u001b[0m\u001b[0m\n\u001b[0m",
      "\u001b[0;32m~/anaconda3/envs/solr/lib/python3.7/site-packages/pysolr.py\u001b[0m in \u001b[0;36madd\u001b[0;34m(self, docs, boost, fieldUpdates, commit, softCommit, commitWithin, waitFlush, waitSearcher, overwrite, handler)\u001b[0m\n\u001b[1;32m    916\u001b[0m         \u001b[0mself\u001b[0m\u001b[0;34m.\u001b[0m\u001b[0mlog\u001b[0m\u001b[0;34m.\u001b[0m\u001b[0mdebug\u001b[0m\u001b[0;34m(\u001b[0m\u001b[0;34m\"Built add request of %s docs in %0.2f seconds.\"\u001b[0m\u001b[0;34m,\u001b[0m \u001b[0mlen\u001b[0m\u001b[0;34m(\u001b[0m\u001b[0mmessage\u001b[0m\u001b[0;34m)\u001b[0m\u001b[0;34m,\u001b[0m \u001b[0mend_time\u001b[0m \u001b[0;34m-\u001b[0m \u001b[0mstart_time\u001b[0m\u001b[0;34m)\u001b[0m\u001b[0;34m\u001b[0m\u001b[0;34m\u001b[0m\u001b[0m\n\u001b[1;32m    917\u001b[0m         return self._update(m, commit=commit, softCommit=softCommit, waitFlush=waitFlush, waitSearcher=waitSearcher,\n\u001b[0;32m--> 918\u001b[0;31m                             overwrite=overwrite, handler=handler)\n\u001b[0m\u001b[1;32m    919\u001b[0m \u001b[0;34m\u001b[0m\u001b[0m\n\u001b[1;32m    920\u001b[0m     \u001b[0;32mdef\u001b[0m \u001b[0mdelete\u001b[0m\u001b[0;34m(\u001b[0m\u001b[0mself\u001b[0m\u001b[0;34m,\u001b[0m \u001b[0mid\u001b[0m\u001b[0;34m=\u001b[0m\u001b[0;32mNone\u001b[0m\u001b[0;34m,\u001b[0m \u001b[0mq\u001b[0m\u001b[0;34m=\u001b[0m\u001b[0;32mNone\u001b[0m\u001b[0;34m,\u001b[0m \u001b[0mcommit\u001b[0m\u001b[0;34m=\u001b[0m\u001b[0;32mNone\u001b[0m\u001b[0;34m,\u001b[0m \u001b[0msoftCommit\u001b[0m\u001b[0;34m=\u001b[0m\u001b[0;32mFalse\u001b[0m\u001b[0;34m,\u001b[0m \u001b[0mwaitFlush\u001b[0m\u001b[0;34m=\u001b[0m\u001b[0;32mNone\u001b[0m\u001b[0;34m,\u001b[0m \u001b[0mwaitSearcher\u001b[0m\u001b[0;34m=\u001b[0m\u001b[0;32mNone\u001b[0m\u001b[0;34m,\u001b[0m \u001b[0mhandler\u001b[0m\u001b[0;34m=\u001b[0m\u001b[0;34m'update'\u001b[0m\u001b[0;34m)\u001b[0m\u001b[0;34m:\u001b[0m\u001b[0;34m\u001b[0m\u001b[0;34m\u001b[0m\u001b[0m\n",
      "\u001b[0;32m~/anaconda3/envs/solr/lib/python3.7/site-packages/pysolr.py\u001b[0m in \u001b[0;36m_update\u001b[0;34m(self, message, clean_ctrl_chars, commit, softCommit, waitFlush, waitSearcher, overwrite, handler)\u001b[0m\n\u001b[1;32m    498\u001b[0m             \u001b[0mmessage\u001b[0m \u001b[0;34m=\u001b[0m \u001b[0msanitize\u001b[0m\u001b[0;34m(\u001b[0m\u001b[0mmessage\u001b[0m\u001b[0;34m)\u001b[0m\u001b[0;34m\u001b[0m\u001b[0;34m\u001b[0m\u001b[0m\n\u001b[1;32m    499\u001b[0m \u001b[0;34m\u001b[0m\u001b[0m\n\u001b[0;32m--> 500\u001b[0;31m         \u001b[0;32mreturn\u001b[0m \u001b[0mself\u001b[0m\u001b[0;34m.\u001b[0m\u001b[0m_send_request\u001b[0m\u001b[0;34m(\u001b[0m\u001b[0;34m'post'\u001b[0m\u001b[0;34m,\u001b[0m \u001b[0mpath\u001b[0m\u001b[0;34m,\u001b[0m \u001b[0mmessage\u001b[0m\u001b[0;34m,\u001b[0m \u001b[0;34m{\u001b[0m\u001b[0;34m'Content-type'\u001b[0m\u001b[0;34m:\u001b[0m \u001b[0;34m'text/xml; charset=utf-8'\u001b[0m\u001b[0;34m}\u001b[0m\u001b[0;34m)\u001b[0m\u001b[0;34m\u001b[0m\u001b[0;34m\u001b[0m\u001b[0m\n\u001b[0m\u001b[1;32m    501\u001b[0m \u001b[0;34m\u001b[0m\u001b[0m\n\u001b[1;32m    502\u001b[0m     \u001b[0;32mdef\u001b[0m \u001b[0m_extract_error\u001b[0m\u001b[0;34m(\u001b[0m\u001b[0mself\u001b[0m\u001b[0;34m,\u001b[0m \u001b[0mresp\u001b[0m\u001b[0;34m)\u001b[0m\u001b[0;34m:\u001b[0m\u001b[0;34m\u001b[0m\u001b[0;34m\u001b[0m\u001b[0m\n",
      "\u001b[0;32m~/anaconda3/envs/solr/lib/python3.7/site-packages/pysolr.py\u001b[0m in \u001b[0;36m_send_request\u001b[0;34m(self, method, path, body, headers, files)\u001b[0m\n\u001b[1;32m    410\u001b[0m                                            \u001b[0;34m'request_body'\u001b[0m\u001b[0;34m:\u001b[0m \u001b[0mbytes_body\u001b[0m\u001b[0;34m,\u001b[0m\u001b[0;34m\u001b[0m\u001b[0;34m\u001b[0m\u001b[0m\n\u001b[1;32m    411\u001b[0m                                            'request_headers': headers}})\n\u001b[0;32m--> 412\u001b[0;31m             \u001b[0;32mraise\u001b[0m \u001b[0mSolrError\u001b[0m\u001b[0;34m(\u001b[0m\u001b[0merror_message\u001b[0m \u001b[0;34m%\u001b[0m \u001b[0;34m(\u001b[0m\u001b[0mresp\u001b[0m\u001b[0;34m.\u001b[0m\u001b[0mstatus_code\u001b[0m\u001b[0;34m,\u001b[0m \u001b[0msolr_message\u001b[0m\u001b[0;34m)\u001b[0m\u001b[0;34m)\u001b[0m\u001b[0;34m\u001b[0m\u001b[0;34m\u001b[0m\u001b[0m\n\u001b[0m\u001b[1;32m    413\u001b[0m \u001b[0;34m\u001b[0m\u001b[0m\n\u001b[1;32m    414\u001b[0m         \u001b[0;32mreturn\u001b[0m \u001b[0mforce_unicode\u001b[0m\u001b[0;34m(\u001b[0m\u001b[0mresp\u001b[0m\u001b[0;34m.\u001b[0m\u001b[0mcontent\u001b[0m\u001b[0;34m)\u001b[0m\u001b[0;34m\u001b[0m\u001b[0;34m\u001b[0m\u001b[0m\n",
      "\u001b[0;31mSolrError\u001b[0m: Solr responded with an error (HTTP 404): [Reason: Error 404 Not Found]"
     ]
    }
   ],
   "source": [
    "json_data = read_csv_to_json(filename='dantri_test.csv')\n",
    "solr.add(json_data)"
   ]
  },
  {
   "cell_type": "code",
   "execution_count": 87,
   "metadata": {},
   "outputs": [
    {
     "data": {
      "text/plain": [
       "'<?xml version=\"1.0\" encoding=\"UTF-8\"?>\\n<response>\\n\\n<lst name=\"responseHeader\">\\n  <int name=\"status\">0</int>\\n  <int name=\"QTime\">114</int>\\n</lst>\\n</response>\\n'"
      ]
     },
     "execution_count": 87,
     "metadata": {},
     "output_type": "execute_result"
    }
   ],
   "source": [
    "solr.delete(q='*:*')"
   ]
  },
  {
   "cell_type": "code",
   "execution_count": 4,
   "metadata": {},
   "outputs": [],
   "source": [
    "def tokenizer(doc):\n",
    "    return nlp(doc).text\n",
    "\n",
    "def read_csv_to_json(filename):\n",
    "    cols = ['description', 'title', 'content', 'author', 'tag', 'link', 'category']\n",
    "    df = pd.read_csv(filename, usecols = cols, encoding='utf8')\n",
    "    json_rows = []\n",
    "    \n",
    "    for index, row in df.iterrows():\n",
    "        json_row = {\n",
    "            \"description\" : tokenizer(row[\"description\"]),\n",
    "            \"title\"       : tokenizer(row[\"title\"]),\n",
    "            \"content\"     : tokenizer(row[\"content\"]),\n",
    "            \"author\"      : tokenizer(row[\"author\"]).split(','),\n",
    "            \"tag\"         : tokenizer(row[\"tag\"]).split(','),\n",
    "            \"link\"        : row[\"link\"],\n",
    "            \"category\"    : row[\"category\"]\n",
    "        }\n",
    "        json_rows.append(json_row)\n",
    "    return json_rows\n",
    "\n"
   ]
  },
  {
   "cell_type": "code",
   "execution_count": 76,
   "metadata": {},
   "outputs": [
    {
     "name": "stdout",
     "output_type": "stream",
     "text": [
      "Bắc_Ninh ban_hành phương_án xử_lý \n"
     ]
    }
   ],
   "source": [
    "print (tokenizer('Bắc Ninh ban hành phương án xử lý'))"
   ]
  },
  {
   "cell_type": "code",
   "execution_count": 71,
   "metadata": {},
   "outputs": [],
   "source": [
    "results = solr.search('Bắc Ninh ban hành phương án xử lý')\n"
   ]
  },
  {
   "cell_type": "code",
   "execution_count": 72,
   "metadata": {},
   "outputs": [
    {
     "name": "stdout",
     "output_type": "stream",
     "text": [
      "Saw 3 result(s).\n"
     ]
    }
   ],
   "source": [
    "print(\"Saw {0} result(s).\".format(len(results)))"
   ]
  },
  {
   "cell_type": "code",
   "execution_count": 79,
   "metadata": {},
   "outputs": [
    {
     "name": "stdout",
     "output_type": "stream",
     "text": [
      "The title is 'Ông Nguyễn Văn Phong - Phó Chủ tịch UBND tỉnh Bắc Ninh vừa ký văn bản số 365 / PA - XDCB về phương án xử lý khủng hoảng truyền thông trên địa bàn tỉnh này . Văn bản cho rằng , Bắc Ninh là một tỉnh năng động và đạt nhiều thành tựu trong phát triển kinh tế - xã hội , trở thành điểm đến , sức hút của các nhà đầu tư và thu hút sự quan tâm của các cơ quan báo chí trong nước , quốc tế . Bên cạnh những thông tin tích cực , một số thông tin đăng tải chưa đúng sự thật , làm sai lệch bản chất sự việc , hiện tượng , khiến các cơ quan , doanh nghiệp , cá nhân phải đối mặt với khủng hoảng truyền thông , gây hoang mang dư luận , mất ổn định an ninh - trật tự an toàn xã hội . Trong khi đó một số người đứng đầu cơ quan , đơn vị , địa phương chưa chủ động phát ngôn , cung cấp thông tin kịp thời , đúng trọng tâm mà báo chí , dư luận xã hội đang cần , quan tâm . “ Thực tế cho thấy khủng hoảng truyền thông có thể xảy ra với tất cả các cơ quan , đơn vị , tổ chức bất kỳ lúc nào , nhất là trong thời đại mạng xã hội bùng nổ tạo nên hàng triệu “ nhà báo công dân ” như hiện nay . Nếu không có giải pháp xử lý kịp thời và bài bản , khủng hoảng truyền thông có thể gây ra hậu quả khó lường ” - văn bản cho hay . Quyết định của UBND tỉnh Bắc Ninh cũng nêu rõ các nguyên tắc cơ bản trong xử lý khủng hoảng truyền thông , trong đó phải xác định kịp thời tính chất quy mô , mức độ , nguyên nhân ; hình thành ngay bộ phận xử lý khủng hoảng truyền thông do một đại diện của ban lãnh đạo trực tiếp phụ trách . Người phát ngôn phải có bản lĩnh , kỹ năng giao tiếp với báo chí và xác định nội dung , vấn đề , thông tin cần cung cấp . Có thể tổ chức họp báo , cung cấp thông tin , trả lời làm rõ những vấn đề báo chí quan tâm . Trong quá trình trả lời báo chí , phải nắm vững nguyên tắc là trả lời chân thực , không nói quanh co , che giấu sự thật , diễn đạt đủ câu , đủ ý , trả lời kỹ càng , mạch lạc . “ Không né tránh , bưng bít , từ chối việc cung cấp thông tin ; không quanh co , chối bỏ , đùn đẩy trách nhiệm . Không nóng giận , phát ngôn và hành động thiếu kiềm chế , thiếu nhất quán , “ tiền hậu bất nhất ” . Không xoá , huỷ bài vở , thông tin ( các motor tìm kiếm tự động hoạt động động liên tục và xoá bài , điều này càng kích thích nhà báo và dư luận xã hội đào sâu , nghiên cứu ) ” - quyết định của UBND tỉnh Bắc Ninh nêu rõ . UBND tỉnh Bắc Ninh cũng yêu cầu các cơ quan , đơn vị , địa phương nắm bắt và chủ động cung cấp thông tin , có tiếng nói trước khi có dư luận ; tránh trường hợp mạng xã hội thông tin một chiều hoặc thông tin không chính xác , sai sự thật , mập mờ , … gây ra khủng hoảng truyền thông . Hàng tháng cung cấp thông tin định kỳ cho báo chí ; 3 tháng một lần tổ chức họp báo để cung cấp thông tin về hoạt động chỉ đạo điều hành của đơn vị . Đáng chú ý , văn bản của tỉnh Bắc Ninh còn quy định từng bước tiến hành cụ thể khi xảy ra khủng hoảng truyền thông . Trong đó , Văn phòng UBND tỉnh Bắc Ninh được giao tham mưu , đề xuất Chủ tịch UBND tỉnh chỉ đạo các cơ quan , đơn vị xử lý khủng hoảng truyền thông kịp thời , hiệu quả . Ban Tuyên giáo Tỉnh uỷ Bắc Ninh ngay khi nhận được báo cáo của cơ quan , đơn vị xảy ra khủng hoảng truyền thông và kết quả xác minh , điều tra của các cơ quan chức năng , tổng hợp dư luận xã hội và đưa ra định hướng thông tin . '.\n",
      "The title is '( Dân trí ) - Bắc Ninh ban hành phương án xử lý khủng hoảng truyền thông , trong đó nhấn mạnh : “ Mạng xã hội bùng nổ tạo nên hàng triệu “ nhà báo công dân ” như hiện nay , nếu không có giải pháp xử lý kịp thời và bài bản , khủng hoảng truyền thông có thể gây ra hậu quả khó lường ” . '.\n",
      "The title is 'Bắc Ninh tìm hướng xử lý khủng hoảng truyền thông khi mạng xã hội bùng nổ '.\n",
      "\n",
      "The title is 'Ngày 22 / 10 , Ủy ban kiểm tra ( UBKT ) Tỉnh ủy Đắk Lắk tổ chức họp định kỳ , qua đó đơn vị đang xem xét kỷ luật đối với Đại tá Trần Lưu Huỳnh - Bí thư Chi bộ , Chủ tịch Hội Cựu chiến binh , nguyên Huyện ủy viên , nguyên Phó Bí thư Đảng ủy Quân sự huyện Krông Ana và Đại tá Nguyễn Đình Cường - nguyên Ủy viên Ban Thường vụ Huyện ủy , nguyên Đảng ủy viên Đảng ủy Quân sự huyện , nguyên Chỉ huy trưởng Ban Chỉ huy Quân sự huyện Krông Ana . Theo đó , Đại tá Trần Lưu Huỳnh và Đại tá Nguyễn Đình Cường đã vi phạm , khuyết điểm để Đảng ủy Quân sự huyện buông lỏng lãnh đạo , chỉ đạo , thiếu kiểm tra , giám sát , dẫn đến Ban Chỉ huy Quân sự huyện vi phạm trong công tác liên kết sử dụng đất quốc phòng do đơn vị quản lý ; ký các tờ trình xin chủ trương xây dựng , liên kết xây dựng khu thể dục - thể thao của Cơ quan Quân sự huyện ; ký hợp đồng liên kết với cá nhân ngoài Quân đội kinh doanh dịch vụ sân bóng đá mini , ăn uống , giải khát trên 2.500 m đất của đơn vị được Bộ Chỉ huy Quân sự tỉnh giao quản lý , sử dụng sai quy định . Đồng thời hai đại tá đã thiếu kiểm tra , giám sát để cán bộ cấp dưới thực hiện không đúng quy định về công tác văn thư - lưu trữ ; để Huyện ủy viên , Phó Bí thư Đảng ủy , Chính trị viên Ban Chỉ huy Quân sự huyện ký đơn xin cấp giấy phép xây dựng dân bóng đá mini trái quy định , vượt thẩm quyền . Trước những vi phạm này , UBKT quyết định xem xét kỷ luật hai cán bộ này . '.\n",
      "The title is '( Dân trí ) - Để xảy ra nhiều vi phạm trong công tác liên kết , sử dụng đất quốc phòng , 2 đại tá quân đội đã bị Uỷ ban kiểm tra Tỉnh ủy Đắk Lắk quyết định xem xét , xử lý kỷ luật . '.\n",
      "The title is 'Xem xét kỷ luật 2 đại tá quân đội '.\n",
      "\n",
      "The title is 'Trao đổi với PV tại Trung tâm Y tế huyện Đắk R ' lấp , ông Thủy cho biết , sau khi xảy ra sự việc , Thường trực Huyện ủy , Ban Tổ chức , UB Kiểm tra Huyện ủy đã đến gặp , làm việc với ông để nắm bắt sự việc . Nam tài xế cho biết , chiều ngày 16 / 10 , ông nhận nhiệm vụ chở ông Vũ Minh Khôi , Phó Bí thư Thường trực Huyện ủy Tuy Đức và ông Hoàng Tuấn Khang , Chánh Văn phòng Huyện ủy xuống UBND xã Quảng Trực để làm việc . Kết thúc buổi làm việc , địa phương có mời đoàn ở lại dùng cơm và ăn nhậu . Đến khoảng hơn 23h cùng ngày , ông Khôi và ông Khang lên xe về lại cơ quan . \" Sau bữa tối , khi đi trên đường về huyện , ông Khang nói nhiều lời không hay về một Phó bí thư nên tôi đã khuyên ngăn . Thế nhưng , ông Khang chẳng những không tiếp thu mà từ hàng ghế phía sau vung tay đấm vào mặt tôi . Tiếp đó , ông Khang tiếp tục trèo lên phía trước , đạp vào người tôi trong lúc tôi vẫn đang lái xe . Lúc này , ông Khang chỉ đạo tôi xuống xe để ông lái xe về cơ quan . Tôi không đồng ý cho ông Khang lái xe vì đây là nhiệm vụ của tôi . Lúc tôi bị đánh , đồng chí Phó Bí thư ngủ say nên không biết chuyện \" , ông Thủy cho biết . Ông Thủy trình bày , sau đó ông điều khiển xe chở ông Khôi về trụ sở Huyện ủy Tuy Đức . Khi ông Thủy chở ông Khôi về đến trụ sở thì ông Khang cũng được một cán bộ của UBND huyện Tuy Đức đưa về . Tại trụ sở , ông Khang tiếp tục tìm ông Thủy chửi bới , đe dọa giết ông và cả gia đình ông . Bực tức nên ông Thủy cự cãi lại , thách thức thì ông Khang tiếp tục lao vào đánh . Lúc này , cán bộ tên Phi và một bảo vệ cơ quan là em vợ ông Khang xông vào ôm , khống chế ông Thủy để ông Khang đánh . Hiện nay , ông Thủy đang được điều trị tại Trung tâm y tế huyện Đắk R ’ lấp . Theo các bác sỹ , ông Thủy nhập viện trong tình trạng bị bầm tím , đa chấn thương ở phần mặt , ngực , bụng ... Trên mặt ông Thủy cũng có nhiều vết bầm tím . Trao đổi với PV , ông Hoàng Tuấn Khang , Chánh văn phòng Huyện ủy Tuy Đức trần tình : “ Hôm xảy ra sự việc , tôi với Thủy tranh luận về vấn đề một đồng chí Phó Bí thư huyện đi dự Đại hội dân tộc thiểu số . Sau đó , Thủy cho rằng tôi nói vậy là không đúng . Từ đó có tranh luận dẫn tới cãi nhau rồi bức xúc . Lúc đó , tôi cũng nóng , Thủy cũng nóng nên anh em cãi qua cãi lại nên dẫn đến vụ việc . Sự việc xảy ra , tôi đã lên gặp trực tiếp xin lỗi anh Thủy . Đồng thời , tôi đã có báo cáo với lãnh đạo cơ quan và viết tường trình , kiểm điểm và nhận khuyết điểm ” . “ Tôi đã xin lỗi chú ấy rồi . Cá nhân tôi cũng không nghĩ gì . Tôi chỉ nghĩ là ảnh hưởng cơ quan , lãnh đạo cấp trên của tôi thôi , bản thân tôi sẵn sàng nhận hình thức kỷ luật cao nhất , thực hiện theo chỉ đạo xử lý của lãnh đạo ” , ông Khang nói . Sau khi sự việc xảy ra , Chánh Văn phòng Huyện ủy Tuy Đức cũng cho biết sẽ xin nghỉ hưu vì trước đó cũng đã có ý định xin nghỉ hưu trước tuổi . '.\n",
      "The title is '( Dân trí ) - Ngày 22 / 10 , một lãnh đạo UBKT Huyện ủy huyện Tuy Đức ( Đắk Nông ) cho biết , đã nhận được đơn tố cáo của ông Huỳnh Tuấn Thủy , lái xe của Huyện ủy Tuy Đức , tố cáo ông Hoàng Tấn Khang , Chánh Văn phòng Huyện ủy đã tấn công khiến ông này nhập viện . '.\n",
      "The title is 'Tài xế bị Chánh Văn phòng Huyện ủy đánh vì can ngăn nói xấu lãnh đạo ? '.\n",
      "\n"
     ]
    }
   ],
   "source": [
    "for result in results:\n",
    "    print(\"The title is '{0}'.\".format(result['content'].replace(\"_\", \" \")))\n",
    "    print(\"The title is '{0}'.\".format(result['description'].replace(\"_\", \" \")))\n",
    "    print(\"The title is '{0}'.\".format(result['title'].replace(\"_\", \" \")))\n",
    "    print ()"
   ]
  },
  {
   "cell_type": "code",
   "execution_count": 82,
   "metadata": {},
   "outputs": [
    {
     "name": "stdout",
     "output_type": "stream",
     "text": [
      "['loi']\n"
     ]
    }
   ],
   "source": [
    "print('loi'.split(','))\n"
   ]
  },
  {
   "cell_type": "code",
   "execution_count": null,
   "metadata": {},
   "outputs": [],
   "source": []
  }
 ],
 "metadata": {
  "kernelspec": {
   "display_name": "solr",
   "language": "python",
   "name": "solr"
  },
  "language_info": {
   "codemirror_mode": {
    "name": "ipython",
    "version": 3
   },
   "file_extension": ".py",
   "mimetype": "text/x-python",
   "name": "python",
   "nbconvert_exporter": "python",
   "pygments_lexer": "ipython3",
   "version": "3.7.5"
  }
 },
 "nbformat": 4,
 "nbformat_minor": 2
}
