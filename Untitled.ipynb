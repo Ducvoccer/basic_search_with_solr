{
 "cells": [
  {
   "cell_type": "code",
   "execution_count": 1,
   "metadata": {},
   "outputs": [],
   "source": [
    "import pysolr\n",
    "import csv  \n",
    "import json  \n",
    "import pandas as pd\n",
    "\n",
    "import spacy\n",
    "from urllib.request import urlopen\n",
    "import json\n",
    "\n",
    "nlp = spacy.load('vi_spacy_model')"
   ]
  },
  {
   "cell_type": "code",
   "execution_count": 2,
   "metadata": {},
   "outputs": [],
   "source": [
    "def tokenizer(doc):\n",
    "    return nlp(doc).text\n",
    "\n",
    "def read_csv_to_json(filename):\n",
    "    cols = ['description', 'title', 'content', 'author', 'tag', 'link', 'category']\n",
    "    df = pd.read_csv(filename, usecols = cols, encoding='utf8')\n",
    "    json_rows = []\n",
    "    \n",
    "    for index, row in df.iterrows():\n",
    "        json_row = {\n",
    "            \"description\" : tokenizer(row[\"description\"]),\n",
    "            \"title\"       : tokenizer(row[\"title\"]),\n",
    "            \"content\"     : tokenizer(row[\"content\"]),\n",
    "            \"author\"      : tokenizer(row[\"author\"]).split(','),\n",
    "            \"tag\"         : tokenizer(row[\"tag\"]).split(','),\n",
    "            \"link\"        : row[\"link\"],\n",
    "            \"category\"    : row[\"category\"]\n",
    "        }\n",
    "        json_rows.append(json_row)\n",
    "    return json_rows"
   ]
  },
  {
   "cell_type": "code",
   "execution_count": 3,
   "metadata": {},
   "outputs": [],
   "source": [
    "solr = pysolr.Solr('http://localhost:8983/solr/dantri', always_commit=True)"
   ]
  },
  {
   "cell_type": "code",
   "execution_count": 5,
   "metadata": {},
   "outputs": [
    {
     "data": {
      "text/plain": [
       "'<?xml version=\"1.0\" encoding=\"UTF-8\"?>\\n<response>\\n\\n<lst name=\"responseHeader\">\\n  <int name=\"status\">0</int>\\n  <int name=\"QTime\">157</int>\\n</lst>\\n</response>\\n'"
      ]
     },
     "execution_count": 5,
     "metadata": {},
     "output_type": "execute_result"
    }
   ],
   "source": [
    "json_data = read_csv_to_json(filename='dantri_test.csv')\n",
    "solr.add(json_data)"
   ]
  },
  {
   "cell_type": "code",
   "execution_count": 4,
   "metadata": {
    "scrolled": true
   },
   "outputs": [
    {
     "data": {
      "text/plain": [
       "'<?xml version=\"1.0\" encoding=\"UTF-8\"?>\\n<response>\\n\\n<lst name=\"responseHeader\">\\n  <int name=\"status\">0</int>\\n  <int name=\"QTime\">117</int>\\n</lst>\\n</response>\\n'"
      ]
     },
     "execution_count": 4,
     "metadata": {},
     "output_type": "execute_result"
    }
   ],
   "source": [
    "# solr.delete(q='*:*')"
   ]
  },
  {
   "cell_type": "code",
   "execution_count": 4,
   "metadata": {},
   "outputs": [
    {
     "name": "stdout",
     "output_type": "stream",
     "text": [
      "công_an \n"
     ]
    }
   ],
   "source": [
    "string = \"công an\"\n",
    "q = nlp(string).text\n",
    "print(q)\n",
    "results = solr.search(q, **{\n",
    "    'rows':10,\n",
    "    'hl':'true',\n",
    "#     'hl.q':q,\n",
    "#     'hl.qparser':'dismax',\n",
    "    'hl.method':'original',\n",
    "    'hl.simple.pre':'<b>',\n",
    "    'hl.simple.post':'</b>',\n",
    "    'hl.highlightMultiTerm':'true',\n",
    "#     'hl.fl':'title',\n",
    "    'hl.fragsize':70,\n",
    "#     'hl.encoder':'html',\n",
    "    'defType' : 'dismax',\n",
    "    'qf':'tag^4.0 title^3.0 description^2.0 content^1.0 author^1.0',\n",
    "})"
   ]
  },
  {
   "cell_type": "code",
   "execution_count": 151,
   "metadata": {},
   "outputs": [
    {
     "name": "stdout",
     "output_type": "stream",
     "text": [
      "công_an thanh_hoá \n"
     ]
    }
   ],
   "source": [
    "string = \"công an thanh hoá\"\n",
    "q = nlp(string).text\n",
    "print(q)\n",
    "# q=\"category:xa-hoi title:+lãnh_đạo description:y_tế\"\n",
    "q=\"title:+lãnh_đạo description:y_tế\"\n",
    "# q=\"title:lãnh_đạo && description:tuy_đức\"\n",
    "results = solr.search(q, **{\n",
    "    'rows':10,\n",
    "#     'hl':'true',\n",
    "#     'hl.method':'original',\n",
    "#     'hl.simple.pre':'<b>',\n",
    "#     'hl.simple.post':'</b>',\n",
    "#     'hl.highlightMultiTerm':'true',\n",
    "#     'hl.fragsize':70,\n",
    "    'defType' : 'dismax',\n",
    "#     'tie':0.1,\n",
    "    'fl':'*,score',\n",
    "    'qf':'category^1 title^10 description^1 author^1 content^1',\n",
    "})"
   ]
  },
  {
   "cell_type": "code",
   "execution_count": 152,
   "metadata": {},
   "outputs": [
    {
     "name": "stdout",
     "output_type": "stream",
     "text": [
      "Tài_xế bị Chánh_Văn_phòng Huyện_ủy đánh vì can_ngăn nói_xấu lãnh_đạo ? \n",
      "\n",
      "( Dân_trí ) - Ngày 22 / 10 , một lãnh_đạo UBKT Huyện_ủy_huyện Tuy_Đức ( Đắk Nông ) cho biết , đã nhận được đơn tố_cáo của ông Huỳnh_Tuấn_Thủy , lái_xe của Huyện_ủy Tuy_Đức , tố_cáo ông Hoàng Tấn_Khang , Chánh_Văn_phòng Huyện_ủy đã tấn_công khiến ông này nhập_viện . \n",
      "\n",
      "8.721992\n",
      "\n",
      "----------------------------------\n",
      "Yêu_cầu xử_lý nhà cán_bộ xây_dựng trái_phép , trên đất chưa được cấp chủ_quyền \n",
      "\n",
      "( Dân_trí ) - Ngày 22 / 10 , một lãnh_đạo UBND huyện Đắk R ’ lấp cho biết , vừa có văn_bản chỉ_đạo xác_minh thông_tin bài viết mà Báo Dân_trí phản_ánh . Trước đó , cán_bộ huyện Đắk R ’ lấp vẫn cố xây_dựng nhà trái_phép , trên đất chưa được cấp quyền sử_dụng ... \n",
      "\n",
      "0.56535715\n",
      "\n",
      "----------------------------------\n",
      "Xem_xét kỷ_luật 2 đại_tá quân_đội \n",
      "\n",
      "( Dân_trí ) - Để xảy ra nhiều vi_phạm trong công_tác liên_kết , sử_dụng đất quốc_phòng , 2 đại_tá quân_đội đã bị Uỷ_ban kiểm_tra Tỉnh_ủy Đắk Lắk quyết_định xem_xét , xử_lý kỷ_luật . \n",
      "\n",
      "0.36012715\n",
      "\n",
      "----------------------------------\n",
      "Cụ bà 83 tuổi quyết xin ra khỏi hộ nghèo được tặng Bằng khen \n",
      "\n",
      "( Dân_trí ) - Cụ Đỗ_Thị_Mơ ( ở xã Lương_Sơn , huyện Thường_Xuân ) - người quyết xin ra khỏi danh_sách hộ nghèo - vừa được Chủ_tịch UBND tỉnh Thanh_Hóa tặng Bằng khen . \n",
      "\n",
      "0.31534672\n",
      "\n",
      "----------------------------------\n",
      "Bắc_Ninh tìm hướng xử_lý khủng_hoảng truyền_thông khi mạng xã_hội bùng_nổ \n",
      "\n",
      "( Dân_trí ) - Bắc Ninh ban_hành phương_án xử_lý khủng_hoảng truyền_thông , trong đó nhấn_mạnh : “ Mạng xã_hội bùng_nổ tạo nên hàng_triệu “ nhà_báo_công_dân ” như hiện_nay , nếu không có giải_pháp xử_lý kịp_thời và bài_bản , khủng_hoảng truyền_thông có_thể gây ra hậu_quả khó lường ” . \n",
      "\n",
      "0.2761089\n",
      "\n",
      "----------------------------------\n"
     ]
    }
   ],
   "source": [
    "for result in results:\n",
    "    print(result['title'])\n",
    "    print()\n",
    "    print(result['description'])\n",
    "    print()\n",
    "    print(result['score'])\n",
    "    print()\n",
    "    print (\"----------------------------------\")"
   ]
  },
  {
   "cell_type": "code",
   "execution_count": 39,
   "metadata": {},
   "outputs": [],
   "source": [
    "def tokenizer(doc):\n",
    "    return nlp(doc).text\n",
    "# Hàm này trả về kết quả có hightlight\n",
    "def get_results(results):\n",
    "    hightlight = list(results.highlighting.values())\n",
    "    result_list = list()\n",
    "    for i,result in enumerate(results):\n",
    "        for key in result.keys() :\n",
    "            if key == '_version_' or key == '_default_text_':\n",
    "                result[key] = \"\"\n",
    "                continue\n",
    "\n",
    "            if type(result[key]) == list:\n",
    "                result[key] = ','.join(result[key])\n",
    "            result[key] = result[key].replace('_', ' ')\n",
    "            \n",
    "        result[\"highlight\"] = result[\"description\"][:100] + \"...\"\n",
    "        for key in hightlight[i].keys():\n",
    "            result[\"highlight\"] += \"...\".join(hightlight[i][key])\n",
    "        result[\"highlight\"] = result[\"highlight\"].replace('_', ' ') + \"...\"\n",
    "\n",
    "        result_list.append(result)\n",
    "    return result_list\n",
    "\n",
    "# Xử lý câu truy vấn nâng cao\n",
    "def advance_search(title, description, content, author, category):\n",
    "    title = \"title:+\" + tokenizer(title)\n",
    "    description = \"description:+\" +  tokenizer(description)\n",
    "    content = \"content:+\" + tokenizer(content)\n",
    "    author = \"author:+\" +  tokenizer(author)\n",
    "    category = \"category:+\" + tokenizer(category)\n",
    "\n",
    "    q = \"category:xa-hoi \"\n",
    "    q+= title\n",
    "    q+= description\n",
    "    q+= content\n",
    "    q+= author\n",
    "    print(category)\n",
    "    print(q)\n",
    "    results = solr.search(q, **{\n",
    "        'rows':10,\n",
    "        'hl':'true',\n",
    "        'hl.method':'original',\n",
    "        'hl.simple.pre':'<b>',\n",
    "        'hl.simple.post':'</b>',\n",
    "        'hl.highlightMultiTerm':'true',\n",
    "        'hl.fragsize':70,\n",
    "        'defType' : 'edismax',\n",
    "        'qf':'category^4.0 title^3.0 description^2.0 author^2.0 content^1.0',\n",
    "    })\n",
    "    \n",
    "    results = get_results(results)\n",
    "    return results"
   ]
  },
  {
   "cell_type": "code",
   "execution_count": 20,
   "metadata": {},
   "outputs": [
    {
     "name": "stdout",
     "output_type": "stream",
     "text": [
      "category:+xã_hội \n",
      "category:xa-hoi title:+công_an description:+thanh_hoá content:+đánh người_người author:+lê_thanh_tuấn \n"
     ]
    },
    {
     "data": {
      "text/plain": [
       "[{'description': '( Dân trí ) - Ngày 22 / 10 , một lãnh đạo UBKT Huyện ủy huyện Tuy Đức ( Đắk Nông ) cho biết , đã nhận được đơn tố cáo của ông Huỳnh Tuấn Thủy , lái xe của Huyện ủy Tuy Đức , tố cáo ông Hoàng Tấn Khang , Chánh Văn phòng Huyện ủy đã tấn công khiến ông này nhập viện . ',\n",
       "  '_default_text_': '',\n",
       "  'title': 'Tài xế bị Chánh Văn phòng Huyện ủy đánh vì can ngăn nói xấu lãnh đạo ? ',\n",
       "  'content': 'Trao đổi với PV tại Trung tâm Y tế huyện Đắk R \\' lấp , ông Thủy cho biết , sau khi xảy ra sự việc , Thường trực Huyện ủy , Ban Tổ chức , UB Kiểm tra Huyện ủy đã đến gặp , làm việc với ông để nắm bắt sự việc . Nam tài xế cho biết , chiều ngày 16 / 10 , ông nhận nhiệm vụ chở ông Vũ Minh Khôi , Phó Bí thư Thường trực Huyện ủy Tuy Đức và ông Hoàng Tuấn Khang , Chánh Văn phòng Huyện ủy xuống UBND xã Quảng Trực để làm việc . Kết thúc buổi làm việc , địa phương có mời đoàn ở lại dùng cơm và ăn nhậu . Đến khoảng hơn 23h cùng ngày , ông Khôi và ông Khang lên xe về lại cơ quan . \" Sau bữa tối , khi đi trên đường về huyện , ông Khang nói nhiều lời không hay về một Phó bí thư nên tôi đã khuyên ngăn . Thế nhưng , ông Khang chẳng những không tiếp thu mà từ hàng ghế phía sau vung tay đấm vào mặt tôi . Tiếp đó , ông Khang tiếp tục trèo lên phía trước , đạp vào người tôi trong lúc tôi vẫn đang lái xe . Lúc này , ông Khang chỉ đạo tôi xuống xe để ông lái xe về cơ quan . Tôi không đồng ý cho ông Khang lái xe vì đây là nhiệm vụ của tôi . Lúc tôi bị đánh , đồng chí Phó Bí thư ngủ say nên không biết chuyện \" , ông Thủy cho biết . Ông Thủy trình bày , sau đó ông điều khiển xe chở ông Khôi về trụ sở Huyện ủy Tuy Đức . Khi ông Thủy chở ông Khôi về đến trụ sở thì ông Khang cũng được một cán bộ của UBND huyện Tuy Đức đưa về . Tại trụ sở , ông Khang tiếp tục tìm ông Thủy chửi bới , đe dọa giết ông và cả gia đình ông . Bực tức nên ông Thủy cự cãi lại , thách thức thì ông Khang tiếp tục lao vào đánh . Lúc này , cán bộ tên Phi và một bảo vệ cơ quan là em vợ ông Khang xông vào ôm , khống chế ông Thủy để ông Khang đánh . Hiện nay , ông Thủy đang được điều trị tại Trung tâm y tế huyện Đắk R ’ lấp . Theo các bác sỹ , ông Thủy nhập viện trong tình trạng bị bầm tím , đa chấn thương ở phần mặt , ngực , bụng ... Trên mặt ông Thủy cũng có nhiều vết bầm tím . Trao đổi với PV , ông Hoàng Tuấn Khang , Chánh văn phòng Huyện ủy Tuy Đức trần tình : “ Hôm xảy ra sự việc , tôi với Thủy tranh luận về vấn đề một đồng chí Phó Bí thư huyện đi dự Đại hội dân tộc thiểu số . Sau đó , Thủy cho rằng tôi nói vậy là không đúng . Từ đó có tranh luận dẫn tới cãi nhau rồi bức xúc . Lúc đó , tôi cũng nóng , Thủy cũng nóng nên anh em cãi qua cãi lại nên dẫn đến vụ việc . Sự việc xảy ra , tôi đã lên gặp trực tiếp xin lỗi anh Thủy . Đồng thời , tôi đã có báo cáo với lãnh đạo cơ quan và viết tường trình , kiểm điểm và nhận khuyết điểm ” . “ Tôi đã xin lỗi chú ấy rồi . Cá nhân tôi cũng không nghĩ gì . Tôi chỉ nghĩ là ảnh hưởng cơ quan , lãnh đạo cấp trên của tôi thôi , bản thân tôi sẵn sàng nhận hình thức kỷ luật cao nhất , thực hiện theo chỉ đạo xử lý của lãnh đạo ” , ông Khang nói . Sau khi sự việc xảy ra , Chánh Văn phòng Huyện ủy Tuy Đức cũng cho biết sẽ xin nghỉ hưu vì trước đó cũng đã có ý định xin nghỉ hưu trước tuổi . ',\n",
       "  'author': 'Dương Phong ',\n",
       "  'tag': 'tấn công tài xế , Tuy Đức , Đắk Nông , chánh văn phòng đánh tài xế ',\n",
       "  'link': 'https://dantri.com.vn//xa-hoi/tai-xe-bi-chanh-van-phong-huyen-uy-danh-vi-can-ngan-noi-xau-lanh-dao-20191022161353940.htm',\n",
       "  'category': 'xa-hoi',\n",
       "  'id': 'e78597ba-060a-4427-aa7c-d3621b5f22cf',\n",
       "  '_version_': '',\n",
       "  'highlight': '( Dân trí ) - Ngày 22 / 10 , một lãnh đạo UBKT Huyện ủy huyện Tuy Đức ( Đắk Nông ) cho biết , đã nhậ...Tài xế bị Chánh Văn phòng Huyện ủy <b>đánh</b> vì can ngăn nói xấu lãnh đạo ?  cho ông Khang lái xe vì đây là nhiệm vụ của tôi . Lúc tôi bị <b>đánh</b> , đồng chí...'},\n",
       " {'description': '( Dân trí ) - Đang trêu ghẹo em trai tại nhà , L. bị cha ruột cầm ly nước sôi tạt thẳng vào người , gây bỏng nặng . Hiện , L. đang được điều trị tích cực tại Trung tâm y tế huyện Thạnh Hóa . ',\n",
       "  '_default_text_': '',\n",
       "  'title': 'Bé trai 11 tuổi nghi bị cha ruột tạt nước sôi gây bỏng nặng ',\n",
       "  'content': 'Chiều 22 / 10 , thông tin từ Công an huyện Thạnh Hóa tỉnh Long An cho biết , đang điều tra làm rõ vụ em Nguyễn Duy L. ( 11 tuổi , ngụ xã Thủy Đông ) bị cha ruột bạo hành gây bỏng nặng . UBND huyện cùng các cơ quan chức năng đang tiến hành hỗ trợ và chăm sóc em L. nhanh bình phục . Trước đó , sáng cùng ngày trên mạng xã hội xuất hiện hình ảnh em L. đang nằm điều trị tại Trung tâm y tế Thạnh Hóa . Em L. bị bỏng nặng phần vai , ngực . Theo thông tin người đăng tải vụ việc lên Facebook cá nhân thì em L. bị chính cha ruột hành hung , tạt nước sôi vào người . Em L. sau đó được người thân đưa đến bệnh viện điều trị . Thông tin nhanh chóng thu hút sự quan tâm của dư luận . Nhiều người đã đến thăm hỏi và hỗ trợ viện phí cho em L. Còn theo thông tin từ UBND xã Thủy Đông , em L. đã được chăm sóc tại trung tâm y tế xã từ 2 ngày nay . Trước đó , trưa ngày 201 / 10 , em L. khi đang nô đùa , chọc ghẹo em trai tại nhà , em L. bị cha ruột là Nguyễn Duy K. ( SN 1982 ) phát hiện rồi chửi bới . Sau đó , người cha đã dùng ly nước sôi tạt thẳng vào người L. khiến em bị bỏng nặng vùng ngực và vai trái . Nguyên nhân vụ việc đang được cơ quan chức năng điều tra làm rõ . ',\n",
       "  'author': 'Xuân Hinh ',\n",
       "  'tag': 'bạo hành trẻ em , tạt nước sôi vào con trai , bạo lực gia đình ',\n",
       "  'link': 'https://dantri.com.vn//xa-hoi/be-trai-11-tuoi-nghi-bi-cha-ruot-tat-nuoc-soi-gay-bong-nang-20191022171905911.htm',\n",
       "  'category': 'xa-hoi',\n",
       "  'id': '778750a6-4ea2-47f7-a97d-2dfeb2ab58f7',\n",
       "  '_version_': '',\n",
       "  'highlight': '( Dân trí ) - Đang trêu ghẹo em trai tại nhà , L. bị cha ruột cầm ly nước sôi tạt thẳng vào người , ...Chiều 22 / 10 , thông tin từ <b>Công an</b> huyện Thạnh Hóa tỉnh Long An...'},\n",
       " {'description': '( Dân trí ) - Cụ Đỗ Thị Mơ ( ở xã Lương Sơn , huyện Thường Xuân ) - người quyết xin ra khỏi danh sách hộ nghèo - vừa được Chủ tịch UBND tỉnh Thanh Hóa tặng Bằng khen . ',\n",
       "  '_default_text_': '',\n",
       "  'title': 'Cụ bà 83 tuổi quyết xin ra khỏi hộ nghèo được tặng Bằng khen ',\n",
       "  'content': 'Sáng ngày 22 / 10 , tại xã Lương Sơn , huyện Thường Xuân , đại diện lãnh đạo Sở Nội vụ , Sở Lao động - Thương binh và Xã hội tỉnh Thanh Hóa đã trao tặng Bằng khen của Chủ tịch UBND tỉnh cho cụ Đỗ Thị Mơ ( 83 tuổi ) , ở thôn Lương Thiện , xã Lương Sơn vì “ Đã nêu cao tinh thần “ Tuổi cao - gương sáng ” , góp phần động viên , cổ vũ người nghèo trên địa bàn tỉnh vươn lên thoát nghèo ” . Cụ Mơ từng tham gia dân công hỏa tuyến , phục vụ kháng chiến . Từng chứng kiến quê hương , đất nước trải qua những đau thương , mất mát do chiến tranh gây ra ; cụ rất thấu hiểu nỗi đau , vất vả của những gia đình có người thân hy sinh trong chiến đấu , bị ảnh hưởng bởi chất độc da cam ... Trong suy nghĩ của cụ Mơ , cuộc sống còn nhiều người khó khăn hơn mình , nên từ hơn 1 năm trước , cụ đã viết đơn quyết xin ra khỏi hộ nghèo . Trước đó , như thông tin , cụ Mơ có 11 người con , hai người con đã mất , còn lại đều đã ổn định cuộc sống . Năm nay đã 83 tuổi nhưng cụ vẫn rất khỏe mạnh , nhanh nhẹn , minh mẫn . Hàng ngày , cụ vẫn chăm chỉ với công việc trồng rau , nuôi gà ... Theo cụ Mơ , cách đây hơn một năm , cụ có xin ra khỏi danh sách hộ nghèo nhưng chưa thấy xã trả lời . Để tìm hiểu rõ nguyên nhân , vừa qua , cụ lại tiếp tục tự đi xe đạp đến UBND xã để xin ra khỏi hộ nghèo . “ Tôi xin phép ủy ban cho tôi trả lại sổ hộ nghèo , tôi xin thoát nghèo ” , cụ Mơ trình bày tại UBND xã Lương Sơn . Nói về lý do xin ra khỏi danh sách hộ nghèo , cụ Mơ cho biết , giờ đây cụ không còn nghèo , thậm chí đang giúp được nhiều hoàn cảnh khó khăn hơn . Các con đã trưởng thành và ổn định cuộc sống nhưng cụ cũng chưa ở chung và cậy nhờ đến người con nào . Cụ đang tự lo cho mình được bằng công việc bán rau ngoài chợ hàng ngày . Hơn nữa , cụ thoát nghèo là để làm gương cho một số trường hợp chưa xứng đáng được hưởng chế độ hộ nghèo noi theo ... Hành động đẹp của cụ Mơ đã tạo sức lan tỏa trên khắp cả nước , được mọi người kính trọng , nể phục . Lòng tự trọng , quyết tâm vươn lên thoát nghèo của cụ Mơ đã nêu tấm gương sáng , góp phần cổ vũ , động viên người nghèo trên cả nước phát huy tinh thần tự lực , phấn đấu vì cuộc sống tốt đẹp hơn . ',\n",
       "  'author': 'Duy Tuyên ',\n",
       "  'tag': 'đỗ thị mơ , xin ra khỏi hộ nghèo , cụ bà thoát nghèo ',\n",
       "  'link': 'https://dantri.com.vn//xa-hoi/cu-ba-83-tuoi-quyet-xin-ra-khoi-ho-ngheo-duoc-tang-bang-khen-20191022151751929.htm',\n",
       "  'category': 'xa-hoi',\n",
       "  'id': '494907a0-c7b8-434f-8e68-6ed9054f02d4',\n",
       "  '_version_': '',\n",
       "  'highlight': '( Dân trí ) - Cụ Đỗ Thị Mơ ( ở xã Lương Sơn , huyện Thường Xuân ) - người quyết xin ra khỏi danh sác......'},\n",
       " {'description': '( Dân trí ) - Chủ đầu tư dự án Trung tâm giống chất lượng cao Mitraco ( Hà Tĩnh ) đã xuống xin lỗi các hộ dân vì gây ô nhiễm , đồng thời cam kết trong vòng 2 tháng sẽ xử lý dứt điểm vấn đề về môi trường . ',\n",
       "  '_default_text_': '',\n",
       "  'title': 'Chủ trại lợn gây ô nhiễm xin lỗi dân ',\n",
       "  'content': 'Ngay sau khi báo có bài phản ánh “ Trại lợn khủng uy hiếp hàng chục hộ dân ” , phía Công ty CP chăn nuôi Mitraco Hà Tĩnh đã xuống gặp gỡ các hộ dân để xin lỗi . “ Chúng tôi xin lỗi người dân vì quá trình chăn nuôi lợn đã để mùi hôi thối , nước thải màu đỏ đục chảy ra môi trường ảnh hưởng đến cuộc sống và sản xuất của bà con ” , ông Hồ Sỹ Huy Thảo , Giám đốc Công ty CP Chăn nuôi Mitraco nói . Theo lý giải của ông Hồ Sỹ Huy Thảo thì những ngày vừa qua có mưa , khiến lượng nước mặt trên trang trại đã tràn xuống hồ xả cuối , đồng thời , quá trình xử lý chất thải vẫn chưa thể đảm bảo tuyệt đối khiến nước có màu đen khi xả ra môi trường và trong không khí có mùi hôi . “ Hiện chúng tôi đang thực hiện biện pháp xử lý chất thải bằng chế phẩm sinh học , ủ men . Đồng thời đang thuê 2 đơn vị ( một đơn vị ở Hà Tĩnh , một đơn vị ở Hà Nội ) vào để nghiên cứu , tìm phương án để xử lý vấn đề môi trường . Và chúng tôi cũng đã cam kết với các hộ dân trong 2 tháng sắp tới sẽ xử lý cơ bản về vấn đề này ” , ông Hồ Sỹ Huy Thảo cho biết . Trung tâm lợn giống Mitraco ( thuộc Tổng Công ty Khoáng sản và Thương mại Hà Tĩnh ) đi vào hoạt động từ năm 2014 với quy mô gần 7.000 con lợn ( gồm lợn mẹ , lợn giống và lợn thương phẩm ) . Trong ngày 21 / 10 , rất đông các hộ dân ở thôn Nam Phong ( xã Kỳ Phong ) đã tập trung , dựng rạp trước cổng của trại lợn này để phản đối và yêu cầu phải xử lý dứt điểm vấn đề về môi trường . “ Đã 5 năm nay , chúng tôi phải sống trong cảnh ô nhiễm này rồi . Cuộc sống bị đảo lộn hoàn toàn . Họ cũng đã hứa nhiều lần nhưng không thực hiện . Nay họ hứa trong vòng 2 tháng tới sẽ xử lý dứt điểm ” , một người dân ở thôn Nam Phong nói . Trao đổi với PV , ông Võ Tiến Thạch , Chủ tịch UBND xã Kỳ Phong , cho biết việc người dân phản ánh về tình trạng ô nhiễm là đúng và đơn vị này từng bị xử phạt 50 triệu đồng vì gây ô nhiễm . “ Chúng ta không thể đánh đổi môi trường lấy kinh tế được . Người dân phản đối , yêu cầu như vậy là chính đáng . Chúng tôi cũng đã yêu cầu phía đơn vị trại lợn phải xử lý , cam kết đảm bảo môi trường cho bà con , đồng thời , đã có báo cáo lên UBND huyện Kỳ Anh để có phương án xử lý ” , ông Võ Tiến Thạch nói . Ông Thạch cũng cho biết , sau khi phía Công ty CP Chăn nuôi Mitraco viết cam kết xử lý vấn đề môi trường thì các hộ dân đã ra về . ',\n",
       "  'author': 'Xuân Sinh ',\n",
       "  'tag': 'Chủ dự án xin lỗi dân người dân , ô nhiễm môi trường , trại lợn mitraco ',\n",
       "  'link': 'https://dantri.com.vn//xa-hoi/chu-trai-lon-gay-o-nhiem-xin-loi-dan-20191022110905795.htm',\n",
       "  'category': 'xa-hoi',\n",
       "  'id': '6212a424-7f18-4499-b10e-f27b01a95b47',\n",
       "  '_version_': '',\n",
       "  'highlight': '( Dân trí ) - Chủ đầu tư dự án Trung tâm giống chất lượng cao Mitraco ( Hà Tĩnh ) đã xuống xin lỗi c......'},\n",
       " {'description': '( Dân trí ) - Liên quan đến việc đại diện doanh nghiệp “ tố ” Cục trưởng Cục Thuế “ vu khống ” trốn thuế , tại buổi tiếp xúc cử tri , Cục Thuế Thanh Hóa vừa có thông tin phản hồi về ý kiến của đại diện doanh nghiệp . ',\n",
       "  '_default_text_': '',\n",
       "  'title': 'Cục Thuế Thanh Hóa lên tiếng sau khi bị tố “ vu khống ” , tại buổi tiếp xúc cử tri ',\n",
       "  'content': 'Trước đó , như đã thông tin , ngày 27 / 9 , tại buổi tiếp xúc cử tri , tại Hiệp hội doanh nghiệp tỉnh Thanh Hóa , trước kỳ họp thứ 8 , Quốc hội khóa XIV của Đoàn đại biểu quốc hội tỉnh Thanh Hóa , bà Phạm Thị Cường , Giám đốc Công ty TNHH Xuất nhập khẩu Quyết Cường , đóng trên địa bàn thị xã Bỉm Sơn cho rằng , Cục Thuế Thanh Hóa “ vu khống ” doanh nghiệp của gia đình bà trốn thuế . Bà Cường cho rằng , kể từ khi Cục Thuế tỉnh Thanh Hóa chuyển hồ sơ kiến nghị khởi tố cho cơ quan công an , doanh nghiệp của bà đối diện với rất nhiều khó khăn . Vì mang tiếng nợ thuế nên doanh nghiệp khó làm việc với các ngân hàng , không thể mở rộng quy mô sản xuất kinh doanh ... Trước những ý kiến phản ánh của đại diện doanh nghiệp , Cục Thuế Thanh Hóa đã \" lên tiếng \" . Theo thông tin phản hồi tại văn bản số 4706 / CT - TTKT2 của Cục Thuế Thanh Hóa , quá trình theo dõi quản lý thuế , Công ty TNHH Quyết Cường ( Cty Quyết Cường ) nợ thuế kéo dài từ năm 2013 . Theo hồ sơ , tính đến ngày 30 / 4 / 2018 , Công ty có tổng số tiền thuế nợ , tiền phạt , tiền chậm nộp là : 41.713.878.698 đồng , Cục Thuế Thanh Hóa đã thực hiện nhiều biện pháp cưỡng chế thu hồi nợ thuế theo quy định . Tuy nhiên , đến hết tháng 6 / 2018 vẫn chưa thu được tiền thuế nợ . Tiếp theo , để làm rõ các sai phạm , làm căn cứ xử lý theo quy định của pháp luật , Cục Thuế Thanh Hóa đã ban hành quyết định số 2381 / QĐ - CT , ngày 3 / 8 / 2018 về việc thanh tra thuế tại Cty Quyết Cường . Trên cơ sở các quy định pháp luật về thuế hiện hành , kết luận thanh tra nêu rõ : Từ năm 2013 đến hết năm 2017 , Cty Quyết Cường không có các hồ sơ , sổ sách kế toán , chứng từ hóa đơn theo quy định . Công ty đã thực hiện chuyển nhượng , bán tài sản , hàng hóa một cách bất thường , nhưng không lập hóa đơn , không hạch toán sổ sách kế toán và kê khai thuế ... Theo Cục Thuế Thanh Hóa , từ năm 2013 đến hết năm 2017 , Cty Quyết Cường có dấu hiệu tẩu tán tài sản , hàng hóa , trốn thuế với số tiền gần 61 tỷ đồng hoàn toàn có cơ sở , có đầy đủ hồ sơ và dựa trên kết quả thanh tra thuế theo quy định của pháp luật thuế hiện hành . Cục Thuế Thanh Hóa cho rằng , theo hồ sơ quản lý thuế , đại diện theo pháp luật của Cty Quyết Cường là ông Trần Văn Quyết ( chồng bà Cường ) , Giám đốc công ty ; bà Phạm Thị Cường chưa bao giờ là đại diện theo pháp luật của Cty Quyết Cường . Ngày 28 / 9 / 2018 , Cục Thuế Thanh Hóa có Công văn số 4740 / CT - TTr2 chuyển hồ sơ , vụ việc có dấu hiệu tội phạm gửi cơ quan Cảnh sát điều tra ( CSĐT ) Công an tỉnh Thanh Hóa để xác minh , điều tra theo quy định của pháp luật ; Công văn số 4741 / CT - TTr2 gửi Chủ tịch UBND tỉnh Thanh Hóa báo cáo người nộp thuế vi phạm pháp luật thuế . Ngày 5 / 10 / 2018 , cơ quan CSĐT Công an Thanh Hóa có phiếu chuyển số 164 / CSĐT - PC03 về việc chuyển kiến nghị khởi tố cho Công an thị xã Bỉm Sơn để giải quyết theo quy định của pháp luật . Ngày 16 / 2 / 2019 , cơ quan CSĐT Công an thị xã Bỉm Sơn có Thông báo số 241 / CSĐT tạm đình chỉ việc điều tra , xác minh , giải quyết kiến nghị khởi tố , khi thu thập đầy đủ tài liệu sẽ phục hồi giải quyết tiếp . Theo Cục Thuế Thanh Hóa , sau khi đơn vị này chuyển hồ sơ , vụ việc có dấu hiệu tội phạm gửi cơ quan CSĐT để xác minh , điều tra theo quy định của pháp luật ( ngày 28 / 9 / 2018 ) . Đến ngày 26 / 11 / 2018 , TAND tỉnh Thanh Hóa mới ban hành quyết định tuyên bố phá sản đối với Cty Quyết Cường . Cũng theo Cục Thuế Thanh Hóa , số liệu trên hệ thống quản lý thuế hiện hành cho thấy , từ khi thành lập đến thời điểm phá sản , Cty Quyết Cường có số thuế nộp cao nhất ( 2013 ) là 9,38 tỷ đồng . Vụ việc của Cty Quyết Cường hiện nay vẫn thuộc thẩm quyền thụ lý của cơ quan điều tra Công an thị xã Bỉm Sơn . Cơ quan CSĐT Công an thị xã Bỉm Sơn chỉ mới có Thông báo “ tạm đình chỉ việc điều tra , xác minh , giải quyết kiến nghị khởi tố ” gửi Cục Thuế , khi thu thập đầy đủ tài liệu sẽ phục hồi giải quyết tiếp . Cơ quan công an chưa có kết luận cuối cùng . Cục Thuế Thanh Hóa đang tích cực phối hợp với các cơ quan chức năng để xử lý dứt điểm vụ việc của Cty Quyết Cường . ',\n",
       "  'author': 'Trần Lê ',\n",
       "  'tag': 'cục thuế thanh hóa , vu khống doanh nghiệp , trốn thuế ',\n",
       "  'link': 'https://dantri.com.vn//xa-hoi/cuc-thue-thanh-hoa-len-tieng-sau-khi-bi-to-vu-khong-tai-buoi-tiep-xuc-cu-tri-20191022184028459.htm',\n",
       "  'category': 'xa-hoi',\n",
       "  'id': 'bd0c50b3-4783-4f75-ab6c-d432c98822ad',\n",
       "  '_version_': '',\n",
       "  'highlight': '( Dân trí ) - Liên quan đến việc đại diện doanh nghiệp “ tố ” Cục trưởng Cục Thuế “ vu khống ” trốn ... khởi tố cho cơ quan <b>công an</b> , doanh nghiệp của bà đối diện...'},\n",
       " {'description': '( Dân trí ) - Được đầu tư xây dựng với số vốn 42 tỷ đồng , nhưng Trạm xử lý nước thải khu công nghiệp Quảng Phú ( TP. Quảng Ngãi ) vẫn gây ô nhiễm , khiến cuộc sống người dân đảo lộn . ',\n",
       "  '_default_text_': '',\n",
       "  'title': 'Sẽ di dời dân gần trạm xử lý nước thải , từng bị \" phong tỏa \" vì ô nhiễm ',\n",
       "  'content': 'Trạm xử lý nước thải khu công nghiệp Quảng Phú được UBND tỉnh giao cho Công ty TNHH MTV Đầu tư , Xây dựng và Phát triển hạ tầng Quảng Ngãi ( QISC ) làm chủ đầu tư xây dựng vào tháng 8 / 2009 . Trạm có công suất 6.000 m / ngày - đêm , trong đó giai đoạn 1 công suất 4.500 m / ngày - đêm . Tại thời điểm xây dựng , Trạm chỉ xử lý nước thải cho 7 doanh nghiệp . Một thời gian sau đó có thêm 11 doanh nghiệp đi vào hoạt động , phần lớn là các doanh nghiệp chế biến thủy , hải sản khiến hệ thống xử lý nước thải quá tải , gây ô nhiễm . Nhiều năm qua , người dân sống gần Trạm xử lý nước thải bị mùi hôi \" tra tấn \" khiến cuộc sống đảo lộn . Người dân nhiều lần phản ứng quyết liệt , gần đây nhất là vào tháng 5 / 2019 , người dân phường Quảng Phú đã chặn xe ra vào khu công nghiệp để phản đối tình trạng ô nhiễm . Trước tình trạng Trạm xử lý nước thải ảnh hưởng đến đời sống người dân , Chủ tịch UBND tỉnh Quảng Ngãi Trần Ngọc Căng vừa tổ chức kiểm tra và chỉ đạo giải quyết . Nhận thấy việc di dời dân sống gần Trạm xử lý nước thải là cần thiết , Chủ tịch UBND tỉnh Quảng Ngãi Trần Ngọc Căng đã yêu cầu UBND TP. Quảng Ngãi và chủ đầu tư khảo sát toàn bộ những hộ dân nằm trong bán kính 50m và 100m xung quanh Trạm xử lý nước thải , lập phương án di dời trình UBND tỉnh xem xét . Cùng với việc xem xét di dời dân , Chủ tịch UBND tỉnh Quảng Ngãi Trần Ngọc Căng cũng thống nhất cho đầu tư nâng cấp Trạm Xử lý nước thải Quảng Phú đáp ứng công suất xử lý nước thải hiện có , đảm bảo nước thải được xử lý đúng chuẩn trước khi xả ra môi trường . ',\n",
       "  'author': 'Quốc Triều ',\n",
       "  'tag': 'trạm xử lý nước thải , khu công nghiệp ô nhiễm , ô nhiễm nước thải , di dời dân ',\n",
       "  'link': 'https://dantri.com.vn//xa-hoi/se-di-doi-dan-gan-tram-xu-ly-nuoc-thai-tung-bi-phong-toa-vi-o-nhiem-20191022130054954.htm',\n",
       "  'category': 'xa-hoi',\n",
       "  'id': 'b703954e-133b-4a5f-94f5-24ae69945866',\n",
       "  '_version_': '',\n",
       "  'highlight': '( Dân trí ) - Được đầu tư xây dựng với số vốn 42 tỷ đồng , nhưng Trạm xử lý nước thải khu công nghiệ......'},\n",
       " {'description': '( Dân trí ) - Bắc Ninh ban hành phương án xử lý khủng hoảng truyền thông , trong đó nhấn mạnh : “ Mạng xã hội bùng nổ tạo nên hàng triệu “ nhà báo công dân ” như hiện nay , nếu không có giải pháp xử lý kịp thời và bài bản , khủng hoảng truyền thông có thể gây ra hậu quả khó lường ” . ',\n",
       "  '_default_text_': '',\n",
       "  'title': 'Bắc Ninh tìm hướng xử lý khủng hoảng truyền thông khi mạng xã hội bùng nổ ',\n",
       "  'content': 'Ông Nguyễn Văn Phong - Phó Chủ tịch UBND tỉnh Bắc Ninh vừa ký văn bản số 365 / PA - XDCB về phương án xử lý khủng hoảng truyền thông trên địa bàn tỉnh này . Văn bản cho rằng , Bắc Ninh là một tỉnh năng động và đạt nhiều thành tựu trong phát triển kinh tế - xã hội , trở thành điểm đến , sức hút của các nhà đầu tư và thu hút sự quan tâm của các cơ quan báo chí trong nước , quốc tế . Bên cạnh những thông tin tích cực , một số thông tin đăng tải chưa đúng sự thật , làm sai lệch bản chất sự việc , hiện tượng , khiến các cơ quan , doanh nghiệp , cá nhân phải đối mặt với khủng hoảng truyền thông , gây hoang mang dư luận , mất ổn định an ninh - trật tự an toàn xã hội . Trong khi đó một số người đứng đầu cơ quan , đơn vị , địa phương chưa chủ động phát ngôn , cung cấp thông tin kịp thời , đúng trọng tâm mà báo chí , dư luận xã hội đang cần , quan tâm . “ Thực tế cho thấy khủng hoảng truyền thông có thể xảy ra với tất cả các cơ quan , đơn vị , tổ chức bất kỳ lúc nào , nhất là trong thời đại mạng xã hội bùng nổ tạo nên hàng triệu “ nhà báo công dân ” như hiện nay . Nếu không có giải pháp xử lý kịp thời và bài bản , khủng hoảng truyền thông có thể gây ra hậu quả khó lường ” - văn bản cho hay . Quyết định của UBND tỉnh Bắc Ninh cũng nêu rõ các nguyên tắc cơ bản trong xử lý khủng hoảng truyền thông , trong đó phải xác định kịp thời tính chất quy mô , mức độ , nguyên nhân ; hình thành ngay bộ phận xử lý khủng hoảng truyền thông do một đại diện của ban lãnh đạo trực tiếp phụ trách . Người phát ngôn phải có bản lĩnh , kỹ năng giao tiếp với báo chí và xác định nội dung , vấn đề , thông tin cần cung cấp . Có thể tổ chức họp báo , cung cấp thông tin , trả lời làm rõ những vấn đề báo chí quan tâm . Trong quá trình trả lời báo chí , phải nắm vững nguyên tắc là trả lời chân thực , không nói quanh co , che giấu sự thật , diễn đạt đủ câu , đủ ý , trả lời kỹ càng , mạch lạc . “ Không né tránh , bưng bít , từ chối việc cung cấp thông tin ; không quanh co , chối bỏ , đùn đẩy trách nhiệm . Không nóng giận , phát ngôn và hành động thiếu kiềm chế , thiếu nhất quán , “ tiền hậu bất nhất ” . Không xoá , huỷ bài vở , thông tin ( các motor tìm kiếm tự động hoạt động động liên tục và xoá bài , điều này càng kích thích nhà báo và dư luận xã hội đào sâu , nghiên cứu ) ” - quyết định của UBND tỉnh Bắc Ninh nêu rõ . UBND tỉnh Bắc Ninh cũng yêu cầu các cơ quan , đơn vị , địa phương nắm bắt và chủ động cung cấp thông tin , có tiếng nói trước khi có dư luận ; tránh trường hợp mạng xã hội thông tin một chiều hoặc thông tin không chính xác , sai sự thật , mập mờ , … gây ra khủng hoảng truyền thông . Hàng tháng cung cấp thông tin định kỳ cho báo chí ; 3 tháng một lần tổ chức họp báo để cung cấp thông tin về hoạt động chỉ đạo điều hành của đơn vị . Đáng chú ý , văn bản của tỉnh Bắc Ninh còn quy định từng bước tiến hành cụ thể khi xảy ra khủng hoảng truyền thông . Trong đó , Văn phòng UBND tỉnh Bắc Ninh được giao tham mưu , đề xuất Chủ tịch UBND tỉnh chỉ đạo các cơ quan , đơn vị xử lý khủng hoảng truyền thông kịp thời , hiệu quả . Ban Tuyên giáo Tỉnh uỷ Bắc Ninh ngay khi nhận được báo cáo của cơ quan , đơn vị xảy ra khủng hoảng truyền thông và kết quả xác minh , điều tra của các cơ quan chức năng , tổng hợp dư luận xã hội và đưa ra định hướng thông tin . ',\n",
       "  'author': 'Thế Kha ',\n",
       "  'tag': 'UBND tỉnh Bắc Ninh , xử lý khủng hoảng truyền thông , khủng hoảng truyền thông , nhà báo công dân , Bắc Ninh xử lý khủng hoảng truyền thông ',\n",
       "  'link': 'https://dantri.com.vn//xa-hoi/bac-ninh-tim-huong-xu-ly-khung-hoang-truyen-thong-khi-mang-xa-hoi-bung-no-20191022140739119.htm',\n",
       "  'category': 'xa-hoi',\n",
       "  'id': 'bde23ebb-b0d6-47fb-be92-2228eb1831bc',\n",
       "  '_version_': '',\n",
       "  'highlight': '( Dân trí ) - Bắc Ninh ban hành phương án xử lý khủng hoảng truyền thông , trong đó nhấn mạnh : “ Mạ......'},\n",
       " {'description': '( Dân trí ) - Ngày 22 / 10 , một lãnh đạo UBND huyện Đắk R ’ lấp cho biết , vừa có văn bản chỉ đạo xác minh thông tin bài viết mà Báo Dân trí phản ánh . Trước đó , cán bộ huyện Đắk R ’ lấp vẫn cố xây dựng nhà trái phép , trên đất chưa được cấp quyền sử dụng ... ',\n",
       "  '_default_text_': '',\n",
       "  'title': 'Yêu cầu xử lý nhà cán bộ xây dựng trái phép , trên đất chưa được cấp chủ quyền ',\n",
       "  'content': 'Theo đó , UBND huyện Đắk R ’ lấp có văn bản gửi Công an huyện Đắk R ’ lấp , Đội Quản lý đô thị và UBND thị trấn Kiến Đức ( huyện Đắk R ’ lấp ) xác minh , xử lý thông tin cán bộ huyện xây dựng nhà trái phép dù bị lập biên bản nhiều lần . UBND huyện Đắk R ’ lấp đề nghị Cơ quan Công an huyện Đắk R ’ lấp vận động ông Trần Phước Toàn ( cán bộ công an huyện ) tự nguyện tháo dỡ các công trình xây dựng trái phép trên đất lấn chiếm và hoàn trả lại hiện trạng đất ban đầu . Theo tìm hiểu của PV , khu vực mà gia đình ông Toản đang xây dựng nhà là đất lấn chiếm từ một con suối , chưa được cấp giấy chứng nhận quyền sử dụng đất . Huyện Đắk R ’ lấp cũng giao Đội quản lý đô thị và UBND thị trấn Kiến Đức theo dõi kết quả thực hiện . Đề nghị các cơ quan liên quan nhanh chóng triển khai các biện pháp và báo cáo kết quả trước ngày 30 / 10 . Theo một lãnh đạo UBND huyện Đắk R ’ lấp , trước những thông tin mà báo chí phản ánh , đặc biệt là việc xây dựng công trình trái phép trên đất chưa được cấp giấy chứng nhận quyền sử dụng đất , quan điểm của huyện là xử lý nghiêm , dứt điểm để tránh dư luận xấu trong nhân dân . Ngoài ông Toàn , huyện sẽ làm việc với ông Trần Đình Vỹ , Viện trưởng Viện KSND huyện Đắk R ’ Lấp ( bố ông Toàn ) về sự việc này . Như trước đó đã thông tin , sau hai lần lập biên bản yêu cầu dừng thi công và xử phạt hành chính , căn nhà của ông Trần Phước Toàn , cán bộ công an huyện Đắk R ’ Lấp tiếp tục được xây dựng trái phép , buộc lực lượng chức năng phải lập biên bản lần thứ 3 . Khu đất trên là của ông Trần Đình Vỹ , bố ông Toàn . Sau đó ông Vỹ đổ đất , lấn ra ngoài bờ suối làm con suối tự nhiên bị thu hẹp lại rất nhiều . Khi phát hiện việc xây dựng công trình trái phép , cơ quan chức năng đã đến lập biên bản thì ông Vỹ cho biết đất đó đã cho anh Toàn , công trình cũng do anh Toàn thuê người về làm . Tuy nhiên , thời điểm đoàn chức năng đến làm việc , anh Toàn đang đi học dưới TP. HCM. ',\n",
       "  'author': 'Dương Phong ',\n",
       "  'tag': 'nhà trái phép , đất lấn chiếm , cán bộ lấn chiếm đất , Đắk Nông ',\n",
       "  'link': 'https://dantri.com.vn//xa-hoi/yeu-cau-xu-ly-nha-can-bo-xay-dung-trai-phep-tren-dat-chua-duoc-cap-chu-quyen-20191022182330568.htm',\n",
       "  'category': 'xa-hoi',\n",
       "  'id': 'd53f18cd-6e32-446d-8ccc-e10a20c058e4',\n",
       "  '_version_': '',\n",
       "  'highlight': '( Dân trí ) - Ngày 22 / 10 , một lãnh đạo UBND huyện Đắk R ’ lấp cho biết , vừa có văn bản chỉ đạo x...Theo đó , UBND huyện Đắk R ’ lấp có văn bản gửi <b>Công an</b> huyện Đắk R...'},\n",
       " {'description': '( Dân trí ) - Trong khi đang làm việc dưới hầm lò , một công nhân bất ngờ bị đá văng trúng vào người dẫn đến bị thương nặng và tử vong sau đó . ',\n",
       "  '_default_text_': '',\n",
       "  'title': 'Một công nhân tử vong trong hầm lò , do bị đá văng trúng người ',\n",
       "  'content': 'Theo thông tin từ Sở LĐ - TB & XH Quảng Ninh , một vụ tai nạn hầm lò nghiêm trọng khiến một công nhân tử vong đã xảy ra vào lúc 4h25 ’ hôm nay ( 22 / 10 ) tại công ty than Hòn Gai . Nạn nhân được xác định là N. V. D. ( SN 1975 , thợ lò bậc 6 / 6 , ở huyện Thọ Xương , Bắc Giang ) . Theo đó , vào thời điểm trên , anh D. trong khi đang làm nhiệm vụ chống xén lò tại lò xuyên vỉa mức - 160 , Phân xưởng số 5 - GK thì bất ngờ bị đá văng trúng người khiến anh D. gục tại chỗ . Phát hiện vụ việc , các công nhân làm việc gần đó đã nhanh chóng tiếp cận , sơ cứu cho nạn nhân , tuy nhiên do vết thương qua nặng nên anh D. đã tử vong . Hiện Sở LĐ - TB & XH đã lập đoàn kiểm tra đến hiện trường , phối hợp cùng cơ quan chức năng để điều tra , làm rõ vụ việc . Đồng thời bước đầu hỗ trợ gia đình nạn nhân 6 triệu theo qui định . ',\n",
       "  'author': 'An Nhiên ',\n",
       "  'tag': 'Một công nhân tử vong trong hầm lò do đá văng trúng người ',\n",
       "  'link': 'https://dantri.com.vn//xa-hoi/mot-cong-nhan-tu-vong-trong-ham-lo-do-bi-da-vang-trung-nguoi-20191022200220277.htm',\n",
       "  'category': 'xa-hoi',\n",
       "  'id': '7fa5dd99-b4e6-484e-b5f8-ec9aed72be8f',\n",
       "  '_version_': '',\n",
       "  'highlight': '( Dân trí ) - Trong khi đang làm việc dưới hầm lò , một công nhân bất ngờ bị đá văng trúng vào người......'},\n",
       " {'description': '( Dân trí ) - Để xảy ra nhiều vi phạm trong công tác liên kết , sử dụng đất quốc phòng , 2 đại tá quân đội đã bị Uỷ ban kiểm tra Tỉnh ủy Đắk Lắk quyết định xem xét , xử lý kỷ luật . ',\n",
       "  '_default_text_': '',\n",
       "  'title': 'Xem xét kỷ luật 2 đại tá quân đội ',\n",
       "  'content': 'Ngày 22 / 10 , Ủy ban kiểm tra ( UBKT ) Tỉnh ủy Đắk Lắk tổ chức họp định kỳ , qua đó đơn vị đang xem xét kỷ luật đối với Đại tá Trần Lưu Huỳnh - Bí thư Chi bộ , Chủ tịch Hội Cựu chiến binh , nguyên Huyện ủy viên , nguyên Phó Bí thư Đảng ủy Quân sự huyện Krông Ana và Đại tá Nguyễn Đình Cường - nguyên Ủy viên Ban Thường vụ Huyện ủy , nguyên Đảng ủy viên Đảng ủy Quân sự huyện , nguyên Chỉ huy trưởng Ban Chỉ huy Quân sự huyện Krông Ana . Theo đó , Đại tá Trần Lưu Huỳnh và Đại tá Nguyễn Đình Cường đã vi phạm , khuyết điểm để Đảng ủy Quân sự huyện buông lỏng lãnh đạo , chỉ đạo , thiếu kiểm tra , giám sát , dẫn đến Ban Chỉ huy Quân sự huyện vi phạm trong công tác liên kết sử dụng đất quốc phòng do đơn vị quản lý ; ký các tờ trình xin chủ trương xây dựng , liên kết xây dựng khu thể dục - thể thao của Cơ quan Quân sự huyện ; ký hợp đồng liên kết với cá nhân ngoài Quân đội kinh doanh dịch vụ sân bóng đá mini , ăn uống , giải khát trên 2.500 m đất của đơn vị được Bộ Chỉ huy Quân sự tỉnh giao quản lý , sử dụng sai quy định . Đồng thời hai đại tá đã thiếu kiểm tra , giám sát để cán bộ cấp dưới thực hiện không đúng quy định về công tác văn thư - lưu trữ ; để Huyện ủy viên , Phó Bí thư Đảng ủy , Chính trị viên Ban Chỉ huy Quân sự huyện ký đơn xin cấp giấy phép xây dựng dân bóng đá mini trái quy định , vượt thẩm quyền . Trước những vi phạm này , UBKT quyết định xem xét kỷ luật hai cán bộ này . ',\n",
       "  'author': 'Thúy Diễm ',\n",
       "  'tag': 'xem xét kỷ luật đại tá , kinh doanh sân mini , công tác văn thư lưu trữ ',\n",
       "  'link': 'https://dantri.com.vn//xa-hoi/xem-xet-ky-luat-2-dai-ta-quan-doi-20191022201233702.htm',\n",
       "  'category': 'xa-hoi',\n",
       "  'id': '12108b2f-a442-4e5b-8d88-86ce21e72cdd',\n",
       "  '_version_': '',\n",
       "  'highlight': '( Dân trí ) - Để xảy ra nhiều vi phạm trong công tác liên kết , sử dụng đất quốc phòng , 2 đại tá qu......'}]"
      ]
     },
     "execution_count": 20,
     "metadata": {},
     "output_type": "execute_result"
    }
   ],
   "source": [
    "title = \"công an\"\n",
    "description = \"thanh hoá\"\n",
    "content = \"đánh người người\"\n",
    "author = \"lê thanh tuấn\"\n",
    "category = \"xã hội\"\n",
    "advance_search(title, description, content, author, category)"
   ]
  },
  {
   "cell_type": "code",
   "execution_count": 21,
   "metadata": {},
   "outputs": [
    {
     "name": "stdout",
     "output_type": "stream",
     "text": [
      "Tài_xế bị Chánh_Văn_phòng Huyện_ủy đánh vì can_ngăn nói_xấu lãnh_đạo ? \n",
      "\n",
      "\n",
      "xa-hoi\n",
      "\n",
      "----------------------------------\n",
      "Bé trai 11 tuổi nghi bị cha ruột tạt nước sôi gây bỏng nặng \n",
      "\n",
      "\n",
      "xa-hoi\n",
      "\n",
      "----------------------------------\n",
      "Cụ bà 83 tuổi quyết xin ra khỏi hộ nghèo được tặng Bằng khen \n",
      "\n",
      "\n",
      "xa-hoi\n",
      "\n",
      "----------------------------------\n",
      "Chủ trại lợn gây ô_nhiễm xin_lỗi dân \n",
      "\n",
      "\n",
      "xa-hoi\n",
      "\n",
      "----------------------------------\n",
      "Cục Thuế_Thanh_Hóa lên_tiếng sau khi bị tố “ vu_khống ” , tại buổi tiếp_xúc cử_tri \n",
      "\n",
      "\n",
      "xa-hoi\n",
      "\n",
      "----------------------------------\n",
      "Sẽ di_dời dân gần trạm xử_lý nước_thải , từng bị \" phong_tỏa \" vì ô_nhiễm \n",
      "\n",
      "\n",
      "xa-hoi\n",
      "\n",
      "----------------------------------\n",
      "Bắc_Ninh tìm hướng xử_lý khủng_hoảng truyền_thông khi mạng xã_hội bùng_nổ \n",
      "\n",
      "\n",
      "xa-hoi\n",
      "\n",
      "----------------------------------\n",
      "Yêu_cầu xử_lý nhà cán_bộ xây_dựng trái_phép , trên đất chưa được cấp chủ_quyền \n",
      "\n",
      "\n",
      "xa-hoi\n",
      "\n",
      "----------------------------------\n",
      "Một công_nhân tử_vong trong hầm_lò , do bị đá văng trúng người \n",
      "\n",
      "\n",
      "xa-hoi\n",
      "\n",
      "----------------------------------\n",
      "Xem_xét kỷ_luật 2 đại_tá quân_đội \n",
      "\n",
      "\n",
      "xa-hoi\n",
      "\n",
      "----------------------------------\n"
     ]
    }
   ],
   "source": [
    "for result in results:\n",
    "    print(result['title'])\n",
    "    print()\n",
    "#     print(result['description'])\n",
    "    print()\n",
    "    print(result['category'])\n",
    "    print()\n",
    "    print (\"----------------------------------\")"
   ]
  },
  {
   "cell_type": "code",
   "execution_count": 7,
   "metadata": {},
   "outputs": [
    {
     "name": "stdout",
     "output_type": "stream",
     "text": [
      "Bắc_Ninh ban_hành phương_án xử_lý \n"
     ]
    }
   ],
   "source": [
    "print (tokenizer('Bắc Ninh ban hành phương án xử lý'))"
   ]
  },
  {
   "cell_type": "code",
   "execution_count": 7,
   "metadata": {},
   "outputs": [],
   "source": [
    "results = solr.search('Bắc Ninh ban hành phương án xử lý')\n"
   ]
  },
  {
   "cell_type": "code",
   "execution_count": 8,
   "metadata": {},
   "outputs": [
    {
     "name": "stdout",
     "output_type": "stream",
     "text": [
      "Saw 3 result(s).\n"
     ]
    }
   ],
   "source": [
    "print(\"Saw {0} result(s).\".format(len(results)))"
   ]
  },
  {
   "cell_type": "code",
   "execution_count": 31,
   "metadata": {},
   "outputs": [],
   "source": [
    "# for result in results:\n",
    "#     print(\"The title is '{0}'.\".format(result['content'].replace(\"_\", \" \")))\n",
    "#     print(\"The title is '{0}'.\".format(result['description'].replace(\"_\", \" \")))\n",
    "#     print(\"The title is '{0}'.\".format(result['title'].replace(\"_\", \" \")))\n",
    "#     print (\"----------------------------------\")"
   ]
  },
  {
   "cell_type": "code",
   "execution_count": null,
   "metadata": {},
   "outputs": [],
   "source": [
    "print('loi'.split(','))\n"
   ]
  },
  {
   "cell_type": "code",
   "execution_count": null,
   "metadata": {},
   "outputs": [],
   "source": []
  }
 ],
 "metadata": {
  "kernelspec": {
   "display_name": "solr",
   "language": "python",
   "name": "solr"
  },
  "language_info": {
   "codemirror_mode": {
    "name": "ipython",
    "version": 3
   },
   "file_extension": ".py",
   "mimetype": "text/x-python",
   "name": "python",
   "nbconvert_exporter": "python",
   "pygments_lexer": "ipython3",
   "version": "3.7.5"
  }
 },
 "nbformat": 4,
 "nbformat_minor": 2
}
